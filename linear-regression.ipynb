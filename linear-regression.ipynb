{
 "cells": [
  {
   "cell_type": "code",
   "execution_count": 2,
   "id": "c8050a40",
   "metadata": {},
   "outputs": [],
   "source": [
    "import csv\n",
    "import matplotlib.pyplot as plt  \n",
    "import pandas as pd\n",
    "import numpy as np\n",
    "import sys"
   ]
  },
  {
   "cell_type": "markdown",
   "id": "d2a41be0",
   "metadata": {},
   "source": [
    "Implement full version of linear regression manually\n",
    "===================================================="
   ]
  },
  {
   "cell_type": "code",
   "execution_count": 3,
   "id": "dafc0c2f",
   "metadata": {},
   "outputs": [
    {
     "name": "stdout",
     "output_type": "stream",
     "text": [
      "Loaded row: {'age': '25', 'experience': '1', 'income': '30450'}\n",
      "Loaded row: {'age': '30', 'experience': '3', 'income': '35670'}\n",
      "Loaded row: {'age': '47', 'experience': '2', 'income': '31580'}\n",
      "Loaded row: {'age': '32', 'experience': '5', 'income': '40130'}\n",
      "Loaded row: {'age': '43', 'experience': '10', 'income': '47830'}\n",
      "Loaded row: {'age': '51', 'experience': '7', 'income': '41630'}\n",
      "Loaded row: {'age': '28', 'experience': '5', 'income': '41340'}\n",
      "Loaded row: {'age': '33', 'experience': '4', 'income': '37650'}\n",
      "Loaded row: {'age': '37', 'experience': '5', 'income': '40250'}\n",
      "Loaded row: {'age': '39', 'experience': '8', 'income': '45150'}\n",
      "Loaded row: {'age': '29', 'experience': '1', 'income': '27840'}\n",
      "Loaded row: {'age': '47', 'experience': '9', 'income': '46110'}\n",
      "Loaded row: {'age': '54', 'experience': '5', 'income': '36720'}\n",
      "Loaded row: {'age': '51', 'experience': '4', 'income': '34800'}\n",
      "Loaded row: {'age': '44', 'experience': '12', 'income': '51300'}\n",
      "Loaded row: {'age': '41', 'experience': '6', 'income': '38900'}\n",
      "Loaded row: {'age': '58', 'experience': '17', 'income': '63600'}\n",
      "Loaded row: {'age': '23', 'experience': '1', 'income': '30870'}\n",
      "Loaded row: {'age': '44', 'experience': '9', 'income': '44190'}\n",
      "Loaded row: {'age': '37', 'experience': '10', 'income': '48700'}\n",
      "Means: feature1=39.65, feature2=6.2, target=40735.5\n",
      "Beta: [31261.689854101365, -99.19535546105362, 2162.404191924117]\n",
      "RMSE: 1238.3997653077054\n"
     ]
    }
   ],
   "source": [
    "# Step 1: Load\n",
    "X = []  # will hold [1, feature1, feature2]\n",
    "y = []\n",
    "\n",
    "feature1_sum = 0\n",
    "feature2_sum = 0\n",
    "target_sum = 0\n",
    "\n",
    "with open('../data/multiple_linear_regression_dataset.csv') as f:\n",
    "    reader = csv.DictReader(f)\n",
    "    for row in reader:\n",
    "        X.append([1.0, float(row['age']), float(row['experience'])])\n",
    "        y.append(float(row['income']))\n",
    "        print(f\"Loaded row: {row}\")\n",
    "\n",
    "        feature1_sum += float(row['age'])\n",
    "        feature2_sum += float(row['experience'])\n",
    "        target_sum += float(row['income'])\n",
    "\n",
    "m = len(y)  # number of samples\n",
    "feature1_mean = feature1_sum / m\n",
    "feature2_mean = feature2_sum / m\n",
    "target_mean = target_sum / m\n",
    "print(f\"Means: feature1={feature1_mean}, feature2={feature2_mean}, target={target_mean}\")\n",
    "\n",
    "# Step 2 & 3: Closed-form solution (manual matrix math)\n",
    "# Compute X^T X -> 3x3 matrix, X^T y -> 3-vector\n",
    "X_T = [[X[j][i] for j in range(m)] for i in range(3)]  # Transpose X\n",
    "X_T_X = [[sum(X_T[i][k] * X_T[j][k] for k in range(m)) for j in range(3)] for i in range(3)]\n",
    "X_T_y = [sum(X_T[i][j] * y[j] for j in range(m)) for i in range(3)]\n",
    "\n",
    "# Then compute inverse of 3x3 manually (via formula)\n",
    "def invert_matrix(matrix):\n",
    "    a, b, c = matrix[0]\n",
    "    d, e, f = matrix[1]\n",
    "    g, h, i = matrix[2]\n",
    "\n",
    "    det = a * ((e * i) - (f * h)) - b * ((d * i) - (f * g)) + c * ((d * h) - (e * g))\n",
    "\n",
    "    if (det == 0):\n",
    "        sys.exit(\"Determinate is zero. Cannot invert matrix.\")\n",
    "    else: \n",
    "        sub_matrix = [[0 for _ in range(2)] for _ in range(2)]\n",
    "        M = [[0 for _ in range(3)] for _ in range(3)]\n",
    "\n",
    "        for i in range(3):\n",
    "            for x in range(3):\n",
    "                sub_matrix = [[0, 0], [0, 0]]\n",
    "                k = 0\n",
    "                for j in range(3):\n",
    "                    if (j == i):\n",
    "                        continue\n",
    "                    z = 0\n",
    "                    for y in range(3):\n",
    "                        if (y == x) :\n",
    "                            continue\n",
    "                        sub_matrix[k][z] = matrix[j][y]\n",
    "                        z += 1\n",
    "                    k += 1\n",
    "                    \n",
    "                minor = (sub_matrix[0][0] * sub_matrix[1][1]) - (sub_matrix[0][1] * sub_matrix[1][0])\n",
    "                cofactor = (-1) ** (i + x)\n",
    "                M[i][x] = (minor * cofactor) / det\n",
    "        \n",
    "        M_T = [[M[j][i] for j in range(3)] for i in range(3)]\n",
    "\n",
    "    return M_T\n",
    "\n",
    "X_T_X_inv = invert_matrix(X_T_X)\n",
    "\n",
    "# Multiply inverse by X^T y to get beta vector\n",
    "beta = [sum(X_T_X_inv[i][j] * X_T_y[j] for j in range(3)) for i in range(3)]\n",
    "print(f\"Beta: {beta}\")\n",
    "# Step 4: Predictions & MSE\n",
    "predictions = [sum(beta[j] * X[i][j] for j in range(3)) for i in range(m)]\n",
    "mse_closed = sum((pred - actual)**2 for pred,actual in zip(predictions, y)) / m\n",
    "rmse = mse_closed ** 0.5\n",
    "print(f\"RMSE: {rmse}\")\n",
    "\n",
    "# Step 6: Gradient Descent\n",
    "# Initialize theta = [0, 0, 0]\n",
    "# For each iteration:\n",
    "#   predictions = [...]\n",
    "#   gradient = one vector of size 3 = (1/m) * X^T (preds - y)\n",
    "#   theta = [theta_j - alpha * grad_j for each j]\n",
    "#   compute cost and store\n",
    "\n",
    "# Finally compare"
   ]
  },
  {
   "cell_type": "markdown",
   "id": "b3e90fb0",
   "metadata": {},
   "source": [
    "Implementation with numpy and pandas\n",
    "===================================="
   ]
  },
  {
   "cell_type": "code",
   "execution_count": 4,
   "id": "cb45bc22",
   "metadata": {},
   "outputs": [
    {
     "data": {
      "text/html": [
       "<div>\n",
       "<style scoped>\n",
       "    .dataframe tbody tr th:only-of-type {\n",
       "        vertical-align: middle;\n",
       "    }\n",
       "\n",
       "    .dataframe tbody tr th {\n",
       "        vertical-align: top;\n",
       "    }\n",
       "\n",
       "    .dataframe thead th {\n",
       "        text-align: right;\n",
       "    }\n",
       "</style>\n",
       "<table border=\"1\" class=\"dataframe\">\n",
       "  <thead>\n",
       "    <tr style=\"text-align: right;\">\n",
       "      <th></th>\n",
       "      <th>age</th>\n",
       "      <th>experience</th>\n",
       "      <th>income</th>\n",
       "    </tr>\n",
       "  </thead>\n",
       "  <tbody>\n",
       "    <tr>\n",
       "      <th>count</th>\n",
       "      <td>20.000000</td>\n",
       "      <td>20.000000</td>\n",
       "      <td>20.000000</td>\n",
       "    </tr>\n",
       "    <tr>\n",
       "      <th>mean</th>\n",
       "      <td>39.650000</td>\n",
       "      <td>6.200000</td>\n",
       "      <td>40735.500000</td>\n",
       "    </tr>\n",
       "    <tr>\n",
       "      <th>std</th>\n",
       "      <td>10.027725</td>\n",
       "      <td>4.124382</td>\n",
       "      <td>8439.797625</td>\n",
       "    </tr>\n",
       "    <tr>\n",
       "      <th>min</th>\n",
       "      <td>23.000000</td>\n",
       "      <td>1.000000</td>\n",
       "      <td>27840.000000</td>\n",
       "    </tr>\n",
       "    <tr>\n",
       "      <th>25%</th>\n",
       "      <td>31.500000</td>\n",
       "      <td>3.750000</td>\n",
       "      <td>35452.500000</td>\n",
       "    </tr>\n",
       "    <tr>\n",
       "      <th>50%</th>\n",
       "      <td>40.000000</td>\n",
       "      <td>5.000000</td>\n",
       "      <td>40190.000000</td>\n",
       "    </tr>\n",
       "    <tr>\n",
       "      <th>75%</th>\n",
       "      <td>47.000000</td>\n",
       "      <td>9.000000</td>\n",
       "      <td>45390.000000</td>\n",
       "    </tr>\n",
       "    <tr>\n",
       "      <th>max</th>\n",
       "      <td>58.000000</td>\n",
       "      <td>17.000000</td>\n",
       "      <td>63600.000000</td>\n",
       "    </tr>\n",
       "  </tbody>\n",
       "</table>\n",
       "</div>"
      ],
      "text/plain": [
       "             age  experience        income\n",
       "count  20.000000   20.000000     20.000000\n",
       "mean   39.650000    6.200000  40735.500000\n",
       "std    10.027725    4.124382   8439.797625\n",
       "min    23.000000    1.000000  27840.000000\n",
       "25%    31.500000    3.750000  35452.500000\n",
       "50%    40.000000    5.000000  40190.000000\n",
       "75%    47.000000    9.000000  45390.000000\n",
       "max    58.000000   17.000000  63600.000000"
      ]
     },
     "execution_count": 4,
     "metadata": {},
     "output_type": "execute_result"
    }
   ],
   "source": [
    "data = pd.read_csv('../data/multiple_linear_regression_dataset.csv')\n",
    "df = pd.DataFrame(data)\n",
    "\n",
    "df.describe()"
   ]
  },
  {
   "cell_type": "markdown",
   "id": "b5581fd6",
   "metadata": {},
   "source": [
    "Closed-form solution (manual matrix math)\n",
    "========================================="
   ]
  },
  {
   "cell_type": "code",
   "execution_count": 5,
   "id": "9bb07ad9",
   "metadata": {},
   "outputs": [
    {
     "name": "stdout",
     "output_type": "stream",
     "text": [
      "Closed-form solution (manual matrix math)\n",
      "Beta: [  -99.19535546  2162.40419192 31261.6898541 ]\n",
      "RMSE: 1238.3997653077054\n"
     ]
    }
   ],
   "source": [
    "# Closed-form solution (manual matrix math)\n",
    "print(\"Closed-form solution (manual matrix math)\")\n",
    "# Compute X^T X -> 3x3 matrix, X^T y -> 3-vector\n",
    "y = df['income'].to_numpy()\n",
    "X = df[['age', 'experience']].copy()\n",
    "X['intercept'] = 1\n",
    "X = X.to_numpy()\n",
    "\n",
    "X_T = X.T\n",
    "X_T_X = X_T @ X\n",
    "X_T_y = X_T @ y\n",
    "\n",
    "# Then compute inverse of 3x3 manually (via formula)\n",
    "invert_matrix = np.linalg.inv(X_T_X)\n",
    "\n",
    "# Multiply inverse by X^T y to get beta vector\n",
    "B = np.dot(invert_matrix, X_T_y)\n",
    "print(f\"Beta: {B}\")\n",
    "\n",
    "# Predictions & MSE\n",
    "predictions = X @ B\n",
    "mse_closed = sum((pred - actual)**2 for pred, actual in zip(predictions, y)) / len(y)\n",
    "\n",
    "rmse = np.sqrt(mse_closed)\n",
    "print(f\"RMSE: {rmse}\")"
   ]
  },
  {
   "cell_type": "markdown",
   "id": "bcf2b4be",
   "metadata": {},
   "source": [
    "Gradient descent solution\n",
    "========================="
   ]
  },
  {
   "cell_type": "code",
   "execution_count": 6,
   "id": "b21302c3",
   "metadata": {},
   "outputs": [
    {
     "name": "stdout",
     "output_type": "stream",
     "text": [
      "Gradient descent solution\n",
      "Beta: [  -91.78284612  2156.84784506 30987.77141271]\n",
      "RMSE: 1239.9999782625264\n"
     ]
    }
   ],
   "source": [
    "# Gradient descent solution\n",
    "print(\"Gradient descent solution\")\n",
    "\n",
    "y = df['income'].to_numpy()\n",
    "X = df[['age', 'experience']].copy()\n",
    "X['intercept'] = 1\n",
    "X = X.to_numpy()\n",
    "\n",
    "a = 0.0001\n",
    "beta = np.zeros(3)\n",
    "n = len(y)\n",
    "\n",
    "rmse = 2001\n",
    "while(rmse > 1240):\n",
    "    predictions = X @ beta\n",
    "    err = predictions - y\n",
    "    gradient = (2 / n) * (X.T @ err)\n",
    "    beta -= a * gradient\n",
    "\n",
    "    mse = np.mean(err ** 2)\n",
    "    rmse = np.sqrt(mse)\n",
    "\n",
    "print(f\"Beta: {beta}\")\n",
    "print(f\"RMSE: {rmse}\")"
   ]
  },
  {
   "cell_type": "code",
   "execution_count": 7,
   "id": "8b869d75",
   "metadata": {},
   "outputs": [
    {
     "name": "stdout",
     "output_type": "stream",
     "text": [
      "Beta: [ -99.19535546 2162.40419192    0.        ]\n",
      "RMSE: 1238.3997653077047\n"
     ]
    }
   ],
   "source": [
    "from sklearn.linear_model import LinearRegression\n",
    "from sklearn.metrics import mean_squared_error\n",
    "\n",
    "y = df['income'].to_numpy()\n",
    "X = df[['age', 'experience']].copy()\n",
    "X['intercept'] = 1\n",
    "X = X.to_numpy()\n",
    "\n",
    "model = LinearRegression()\n",
    "model.fit(X, y)\n",
    "\n",
    "preds = model.predict(X)\n",
    "\n",
    "mse = mean_squared_error(y, preds)\n",
    "rmse = np.sqrt(mse)\n",
    "\n",
    "beta = model.coef_\n",
    "\n",
    "print(f\"Beta: {beta}\")\n",
    "print(f\"RMSE: {rmse}\")"
   ]
  }
 ],
 "metadata": {
  "kernelspec": {
   "display_name": "3.10.12",
   "language": "python",
   "name": "python3"
  },
  "language_info": {
   "codemirror_mode": {
    "name": "ipython",
    "version": 3
   },
   "file_extension": ".py",
   "mimetype": "text/x-python",
   "name": "python",
   "nbconvert_exporter": "python",
   "pygments_lexer": "ipython3",
   "version": "3.10.12"
  }
 },
 "nbformat": 4,
 "nbformat_minor": 5
}
