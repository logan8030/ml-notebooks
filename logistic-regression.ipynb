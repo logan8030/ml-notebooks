{
 "cells": [
  {
   "cell_type": "code",
   "execution_count": 1,
   "id": "0963fec1",
   "metadata": {},
   "outputs": [],
   "source": [
    "import os\n",
    "import sys\n",
    "import matplotlib.pyplot as plt  "
   ]
  },
  {
   "cell_type": "markdown",
   "id": "c903432e",
   "metadata": {},
   "source": [
    "Review Dataset, Drop Cols or Impute Missing Values,and One-Hot Encode Categorical Columns \n",
    "=========================================================================================="
   ]
  },
  {
   "cell_type": "code",
   "execution_count": 65,
   "id": "fc1a5b94",
   "metadata": {},
   "outputs": [],
   "source": [
    "import pandas as pd\n",
    "import numpy as np \n",
    "\n",
    "TRAIN_DS_PATH = '../data/titanic_train.csv'\n",
    "TEST_DS_PATH = '../data/titanic_test.csv'"
   ]
  },
  {
   "cell_type": "code",
   "execution_count": 96,
   "id": "c740b4f8",
   "metadata": {},
   "outputs": [
    {
     "name": "stdout",
     "output_type": "stream",
     "text": [
      "<class 'pandas.core.frame.DataFrame'>\n",
      "RangeIndex: 891 entries, 0 to 890\n",
      "Data columns (total 12 columns):\n",
      " #   Column       Non-Null Count  Dtype  \n",
      "---  ------       --------------  -----  \n",
      " 0   PassengerId  891 non-null    int64  \n",
      " 1   Survived     891 non-null    int64  \n",
      " 2   Pclass       891 non-null    int64  \n",
      " 3   Name         891 non-null    object \n",
      " 4   Sex          891 non-null    object \n",
      " 5   Age          714 non-null    float64\n",
      " 6   SibSp        891 non-null    int64  \n",
      " 7   Parch        891 non-null    int64  \n",
      " 8   Ticket       891 non-null    object \n",
      " 9   Fare         891 non-null    float64\n",
      " 10  Cabin        204 non-null    object \n",
      " 11  Embarked     889 non-null    object \n",
      "dtypes: float64(2), int64(5), object(5)\n",
      "memory usage: 83.7+ KB\n"
     ]
    },
    {
     "data": {
      "text/html": [
       "<div>\n",
       "<style scoped>\n",
       "    .dataframe tbody tr th:only-of-type {\n",
       "        vertical-align: middle;\n",
       "    }\n",
       "\n",
       "    .dataframe tbody tr th {\n",
       "        vertical-align: top;\n",
       "    }\n",
       "\n",
       "    .dataframe thead th {\n",
       "        text-align: right;\n",
       "    }\n",
       "</style>\n",
       "<table border=\"1\" class=\"dataframe\">\n",
       "  <thead>\n",
       "    <tr style=\"text-align: right;\">\n",
       "      <th></th>\n",
       "      <th>Survived</th>\n",
       "      <th>Pclass</th>\n",
       "      <th>Age</th>\n",
       "      <th>SibSp</th>\n",
       "      <th>Parch</th>\n",
       "      <th>Fare</th>\n",
       "    </tr>\n",
       "  </thead>\n",
       "  <tbody>\n",
       "    <tr>\n",
       "      <th>count</th>\n",
       "      <td>891.000000</td>\n",
       "      <td>891.000000</td>\n",
       "      <td>714.000000</td>\n",
       "      <td>891.000000</td>\n",
       "      <td>891.000000</td>\n",
       "      <td>891.000000</td>\n",
       "    </tr>\n",
       "    <tr>\n",
       "      <th>mean</th>\n",
       "      <td>0.383838</td>\n",
       "      <td>2.308642</td>\n",
       "      <td>29.699118</td>\n",
       "      <td>0.523008</td>\n",
       "      <td>0.381594</td>\n",
       "      <td>32.204208</td>\n",
       "    </tr>\n",
       "    <tr>\n",
       "      <th>std</th>\n",
       "      <td>0.486592</td>\n",
       "      <td>0.836071</td>\n",
       "      <td>14.526497</td>\n",
       "      <td>1.102743</td>\n",
       "      <td>0.806057</td>\n",
       "      <td>49.693429</td>\n",
       "    </tr>\n",
       "    <tr>\n",
       "      <th>min</th>\n",
       "      <td>0.000000</td>\n",
       "      <td>1.000000</td>\n",
       "      <td>0.420000</td>\n",
       "      <td>0.000000</td>\n",
       "      <td>0.000000</td>\n",
       "      <td>0.000000</td>\n",
       "    </tr>\n",
       "    <tr>\n",
       "      <th>25%</th>\n",
       "      <td>0.000000</td>\n",
       "      <td>2.000000</td>\n",
       "      <td>20.125000</td>\n",
       "      <td>0.000000</td>\n",
       "      <td>0.000000</td>\n",
       "      <td>7.910400</td>\n",
       "    </tr>\n",
       "    <tr>\n",
       "      <th>50%</th>\n",
       "      <td>0.000000</td>\n",
       "      <td>3.000000</td>\n",
       "      <td>28.000000</td>\n",
       "      <td>0.000000</td>\n",
       "      <td>0.000000</td>\n",
       "      <td>14.454200</td>\n",
       "    </tr>\n",
       "    <tr>\n",
       "      <th>75%</th>\n",
       "      <td>1.000000</td>\n",
       "      <td>3.000000</td>\n",
       "      <td>38.000000</td>\n",
       "      <td>1.000000</td>\n",
       "      <td>0.000000</td>\n",
       "      <td>31.000000</td>\n",
       "    </tr>\n",
       "    <tr>\n",
       "      <th>max</th>\n",
       "      <td>1.000000</td>\n",
       "      <td>3.000000</td>\n",
       "      <td>80.000000</td>\n",
       "      <td>8.000000</td>\n",
       "      <td>6.000000</td>\n",
       "      <td>512.329200</td>\n",
       "    </tr>\n",
       "  </tbody>\n",
       "</table>\n",
       "</div>"
      ],
      "text/plain": [
       "         Survived      Pclass         Age       SibSp       Parch        Fare\n",
       "count  891.000000  891.000000  714.000000  891.000000  891.000000  891.000000\n",
       "mean     0.383838    2.308642   29.699118    0.523008    0.381594   32.204208\n",
       "std      0.486592    0.836071   14.526497    1.102743    0.806057   49.693429\n",
       "min      0.000000    1.000000    0.420000    0.000000    0.000000    0.000000\n",
       "25%      0.000000    2.000000   20.125000    0.000000    0.000000    7.910400\n",
       "50%      0.000000    3.000000   28.000000    0.000000    0.000000   14.454200\n",
       "75%      1.000000    3.000000   38.000000    1.000000    0.000000   31.000000\n",
       "max      1.000000    3.000000   80.000000    8.000000    6.000000  512.329200"
      ]
     },
     "execution_count": 96,
     "metadata": {},
     "output_type": "execute_result"
    }
   ],
   "source": [
    "train_ds = pd.read_csv(TRAIN_DS_PATH)\n",
    "\n",
    "train_ds.info()\n",
    "\n",
    "train_ds = train_ds.drop(columns=['PassengerId', 'Ticket'])\n",
    "train_ds.describe()"
   ]
  },
  {
   "cell_type": "markdown",
   "id": "b5cdc06b",
   "metadata": {},
   "source": [
    "Our training dataset consists of 891 entries. We have 5 numerical and 4 categorical input/feature columns. 'PassangerId', 'Ticket', and 'Name' will not be useful for our model. The target column is going to be 'Survived'."
   ]
  },
  {
   "cell_type": "code",
   "execution_count": 89,
   "id": "d20c547c",
   "metadata": {},
   "outputs": [
    {
     "data": {
      "text/plain": [
       "Survived      0\n",
       "Pclass        0\n",
       "Name          0\n",
       "Sex           0\n",
       "Age         177\n",
       "SibSp         0\n",
       "Parch         0\n",
       "Fare          0\n",
       "Cabin       687\n",
       "Embarked      2\n",
       "dtype: int64"
      ]
     },
     "execution_count": 89,
     "metadata": {},
     "output_type": "execute_result"
    }
   ],
   "source": [
    "train_ds.isna().sum()"
   ]
  },
  {
   "cell_type": "code",
   "execution_count": 90,
   "id": "561ccf4a",
   "metadata": {},
   "outputs": [
    {
     "data": {
      "text/plain": [
       "0    S\n",
       "Name: Embarked, dtype: object"
      ]
     },
     "execution_count": 90,
     "metadata": {},
     "output_type": "execute_result"
    }
   ],
   "source": [
    "train_ds['Embarked'].mode()"
   ]
  },
  {
   "cell_type": "markdown",
   "id": "4bbde77d",
   "metadata": {},
   "source": [
    "Of the 11 feature columns 3 contain missing values. 'Age' has 177/891 missing values and 'Embarked' contains 2/891 missing values. We can imput the mean for the numeric column and mode in the categorical column. Since 'Cabin' is missing a majority of it's values, we can drop it entirely. "
   ]
  },
  {
   "cell_type": "code",
   "execution_count": 91,
   "id": "bafc9f0d",
   "metadata": {},
   "outputs": [
    {
     "data": {
      "text/plain": [
       "Name        891\n",
       "Sex           2\n",
       "Cabin       147\n",
       "Embarked      3\n",
       "dtype: int64"
      ]
     },
     "execution_count": 91,
     "metadata": {},
     "output_type": "execute_result"
    }
   ],
   "source": [
    "train_ds.select_dtypes('object').nunique()"
   ]
  },
  {
   "cell_type": "markdown",
   "id": "2c4b3f7d",
   "metadata": {},
   "source": [
    "Sex is either 'male' or 'female' and embarked is either 'S', 'Q', or 'C'. We can one-hot encode these values. Name can be searched for special titles."
   ]
  },
  {
   "cell_type": "code",
   "execution_count": 97,
   "id": "0e887959",
   "metadata": {},
   "outputs": [
    {
     "name": "stdout",
     "output_type": "stream",
     "text": [
      "<class 'pandas.core.frame.DataFrame'>\n",
      "RangeIndex: 891 entries, 0 to 890\n",
      "Data columns (total 15 columns):\n",
      " #   Column      Non-Null Count  Dtype  \n",
      "---  ------      --------------  -----  \n",
      " 0   Survived    891 non-null    int64  \n",
      " 1   Pclass      891 non-null    int64  \n",
      " 2   Age         891 non-null    float64\n",
      " 3   SibSp       891 non-null    int64  \n",
      " 4   Parch       891 non-null    int64  \n",
      " 5   Fare        891 non-null    float64\n",
      " 6   male        891 non-null    int64  \n",
      " 7   female      891 non-null    int64  \n",
      " 8   Q           891 non-null    int64  \n",
      " 9   S           891 non-null    int64  \n",
      " 10  C           891 non-null    int64  \n",
      " 11  FamilySize  891 non-null    int64  \n",
      " 12  IsAlone     891 non-null    int64  \n",
      " 13  AgeBin      891 non-null    int64  \n",
      " 14  FareBin     891 non-null    int64  \n",
      "dtypes: float64(2), int64(13)\n",
      "memory usage: 104.5 KB\n"
     ]
    },
    {
     "name": "stderr",
     "output_type": "stream",
     "text": [
      "/var/folders/03/gmpk15js2873vjf_mgrgqmx80000gn/T/ipykernel_99634/2814628093.py:3: FutureWarning: A value is trying to be set on a copy of a DataFrame or Series through chained assignment using an inplace method.\n",
      "The behavior will change in pandas 3.0. This inplace method will never work because the intermediate object on which we are setting values always behaves as a copy.\n",
      "\n",
      "For example, when doing 'df[col].method(value, inplace=True)', try using 'df.method({col: value}, inplace=True)' or df[col] = df[col].method(value) instead, to perform the operation inplace on the original object.\n",
      "\n",
      "\n",
      "  train_ds['Age'].fillna(train_ds['Age'].median(), inplace=True)\n",
      "/var/folders/03/gmpk15js2873vjf_mgrgqmx80000gn/T/ipykernel_99634/2814628093.py:4: FutureWarning: A value is trying to be set on a copy of a DataFrame or Series through chained assignment using an inplace method.\n",
      "The behavior will change in pandas 3.0. This inplace method will never work because the intermediate object on which we are setting values always behaves as a copy.\n",
      "\n",
      "For example, when doing 'df[col].method(value, inplace=True)', try using 'df.method({col: value}, inplace=True)' or df[col] = df[col].method(value) instead, to perform the operation inplace on the original object.\n",
      "\n",
      "\n",
      "  train_ds['Embarked'].fillna(train_ds['Embarked'].mode(), inplace=True)\n"
     ]
    }
   ],
   "source": [
    "n = len(train_ds)\n",
    "\n",
    "train_ds['Age'].fillna(train_ds['Age'].median(), inplace=True)\n",
    "train_ds['Embarked'].fillna(train_ds['Embarked'].mode(), inplace=True)\n",
    "\n",
    "train_ds['male'] = (train_ds['Sex'] == 'male').astype(int)\n",
    "train_ds['female'] = (train_ds['Sex'] == 'female').astype(int)\n",
    "\n",
    "train_ds['Q'] = (train_ds['Embarked'] == 'Q').astype(int)\n",
    "train_ds['S'] = (train_ds['Embarked'] == 'S').astype(int)\n",
    "train_ds['C'] = (train_ds['Embarked'] == 'C').astype(int)\n",
    "\n",
    "train_ds['FamilySize'] = train_ds['SibSp'] + train_ds['Parch'] + 1\n",
    "train_ds['IsAlone'] = (train_ds['FamilySize'] == 1).astype(int)\n",
    "\n",
    "train_ds['AgeBin'] = pd.qcut(train_ds['Age'], q=4, labels=[0, 1, 2, 3]).astype(int)\n",
    "train_ds['FareBin'] = pd.qcut(train_ds['Fare'], q=4, labels=[0, 1, 2, 3]).astype(int)\n",
    "\n",
    "train_ds.drop(columns=['Sex', 'Embarked', 'Cabin', 'Name'], inplace=True)\n",
    "train_ds.info()"
   ]
  },
  {
   "cell_type": "markdown",
   "id": "66d48ae8",
   "metadata": {},
   "source": [
    "Solution\n",
    "===================================="
   ]
  },
  {
   "cell_type": "code",
   "execution_count": 79,
   "id": "ae92f082",
   "metadata": {},
   "outputs": [
    {
     "data": {
      "text/html": [
       "<div>\n",
       "<style scoped>\n",
       "    .dataframe tbody tr th:only-of-type {\n",
       "        vertical-align: middle;\n",
       "    }\n",
       "\n",
       "    .dataframe tbody tr th {\n",
       "        vertical-align: top;\n",
       "    }\n",
       "\n",
       "    .dataframe thead th {\n",
       "        text-align: right;\n",
       "    }\n",
       "</style>\n",
       "<table border=\"1\" class=\"dataframe\">\n",
       "  <thead>\n",
       "    <tr style=\"text-align: right;\">\n",
       "      <th></th>\n",
       "      <th>Survived</th>\n",
       "      <th>Pclass</th>\n",
       "      <th>Age</th>\n",
       "      <th>SibSp</th>\n",
       "      <th>Parch</th>\n",
       "      <th>Fare</th>\n",
       "      <th>male</th>\n",
       "      <th>female</th>\n",
       "      <th>Q</th>\n",
       "      <th>S</th>\n",
       "      <th>C</th>\n",
       "      <th>FamilySize</th>\n",
       "      <th>IsAlone</th>\n",
       "      <th>AgeBin</th>\n",
       "      <th>FareBin</th>\n",
       "    </tr>\n",
       "  </thead>\n",
       "  <tbody>\n",
       "    <tr>\n",
       "      <th>0</th>\n",
       "      <td>0</td>\n",
       "      <td>3</td>\n",
       "      <td>22.0</td>\n",
       "      <td>1</td>\n",
       "      <td>0</td>\n",
       "      <td>7.2500</td>\n",
       "      <td>1</td>\n",
       "      <td>0</td>\n",
       "      <td>0</td>\n",
       "      <td>1</td>\n",
       "      <td>0</td>\n",
       "      <td>2</td>\n",
       "      <td>0</td>\n",
       "      <td>0</td>\n",
       "      <td>0</td>\n",
       "    </tr>\n",
       "    <tr>\n",
       "      <th>1</th>\n",
       "      <td>1</td>\n",
       "      <td>1</td>\n",
       "      <td>38.0</td>\n",
       "      <td>1</td>\n",
       "      <td>0</td>\n",
       "      <td>71.2833</td>\n",
       "      <td>0</td>\n",
       "      <td>1</td>\n",
       "      <td>0</td>\n",
       "      <td>0</td>\n",
       "      <td>1</td>\n",
       "      <td>2</td>\n",
       "      <td>0</td>\n",
       "      <td>3</td>\n",
       "      <td>3</td>\n",
       "    </tr>\n",
       "    <tr>\n",
       "      <th>2</th>\n",
       "      <td>1</td>\n",
       "      <td>3</td>\n",
       "      <td>26.0</td>\n",
       "      <td>0</td>\n",
       "      <td>0</td>\n",
       "      <td>7.9250</td>\n",
       "      <td>0</td>\n",
       "      <td>1</td>\n",
       "      <td>0</td>\n",
       "      <td>1</td>\n",
       "      <td>0</td>\n",
       "      <td>1</td>\n",
       "      <td>1</td>\n",
       "      <td>1</td>\n",
       "      <td>1</td>\n",
       "    </tr>\n",
       "    <tr>\n",
       "      <th>3</th>\n",
       "      <td>1</td>\n",
       "      <td>1</td>\n",
       "      <td>35.0</td>\n",
       "      <td>1</td>\n",
       "      <td>0</td>\n",
       "      <td>53.1000</td>\n",
       "      <td>0</td>\n",
       "      <td>1</td>\n",
       "      <td>0</td>\n",
       "      <td>1</td>\n",
       "      <td>0</td>\n",
       "      <td>2</td>\n",
       "      <td>0</td>\n",
       "      <td>2</td>\n",
       "      <td>3</td>\n",
       "    </tr>\n",
       "    <tr>\n",
       "      <th>4</th>\n",
       "      <td>0</td>\n",
       "      <td>3</td>\n",
       "      <td>35.0</td>\n",
       "      <td>0</td>\n",
       "      <td>0</td>\n",
       "      <td>8.0500</td>\n",
       "      <td>1</td>\n",
       "      <td>0</td>\n",
       "      <td>0</td>\n",
       "      <td>1</td>\n",
       "      <td>0</td>\n",
       "      <td>1</td>\n",
       "      <td>1</td>\n",
       "      <td>2</td>\n",
       "      <td>1</td>\n",
       "    </tr>\n",
       "  </tbody>\n",
       "</table>\n",
       "</div>"
      ],
      "text/plain": [
       "   Survived  Pclass   Age  SibSp  Parch     Fare  male  female  Q  S  C  \\\n",
       "0         0       3  22.0      1      0   7.2500     1       0  0  1  0   \n",
       "1         1       1  38.0      1      0  71.2833     0       1  0  0  1   \n",
       "2         1       3  26.0      0      0   7.9250     0       1  0  1  0   \n",
       "3         1       1  35.0      1      0  53.1000     0       1  0  1  0   \n",
       "4         0       3  35.0      0      0   8.0500     1       0  0  1  0   \n",
       "\n",
       "   FamilySize  IsAlone  AgeBin  FareBin  \n",
       "0           2        0       0        0  \n",
       "1           2        0       3        3  \n",
       "2           1        1       1        1  \n",
       "3           2        0       2        3  \n",
       "4           1        1       2        1  "
      ]
     },
     "execution_count": 79,
     "metadata": {},
     "output_type": "execute_result"
    }
   ],
   "source": [
    "train_ds.head()"
   ]
  },
  {
   "cell_type": "markdown",
   "id": "90426d5a",
   "metadata": {},
   "source": [
    "Manual Solution\n",
    "============================================="
   ]
  },
  {
   "cell_type": "code",
   "execution_count": 98,
   "id": "e1101573",
   "metadata": {},
   "outputs": [
    {
     "name": "stdout",
     "output_type": "stream",
     "text": [
      "Beta: [-0.21673466 -0.03264057 -0.35487152 -0.11180154  0.00347077 -1.00983288\n",
      "  1.33298021  0.16685903 -0.0852813   0.22616958 -0.14352572 -0.08787531\n",
      "  0.15930362  0.58565525  0.32314734]\n",
      "Final Binary Cross Entrophy Loss: 0.4461553924313609\n"
     ]
    }
   ],
   "source": [
    "from sklearn.metrics import log_loss\n",
    "\n",
    "y = train_ds['Survived'].to_numpy()\n",
    "X = train_ds.drop(columns='Survived').copy()\n",
    "X['Intercept'] = 1\n",
    "X = X.to_numpy()\n",
    "m, n = X.shape\n",
    "\n",
    "a = 0.0035\n",
    "tolerance = 1e-6\n",
    "beta = np.zeros(n)\n",
    "m = len(y)\n",
    "\n",
    "def sigmoid(x):\n",
    "    return 1 / (1 + np.exp(-x))\n",
    "\n",
    "itr = 10000\n",
    "for i in range(itr):\n",
    "    z = X @ beta\n",
    "    preds = sigmoid(z)\n",
    "    err = preds - y\n",
    "    gradient = (1 / m) * (X.T @ err)\n",
    "    beta -= a * gradient\n",
    "\n",
    "    clipped = np.clip(preds, 1e-15, 1 - 1e-15) # prevent integer overflow\n",
    "    bce = log_loss(y, clipped)\n",
    "    if i % 100 == 0:\n",
    "        # print(f\"Binary Cross Entrophy Loss: {bce}\")\n",
    "        ...\n",
    "\n",
    "    if np.linalg.norm(gradient) < tolerance:\n",
    "        print(f\"Converged in {i+1} iters with gradient norm={np.linalg.norm(gradient):.2e}\")\n",
    "        break\n",
    "\n",
    "print(f\"Beta: {beta}\")\n",
    "print(f\"Final Binary Cross Entrophy Loss: {bce}\")"
   ]
  },
  {
   "cell_type": "markdown",
   "id": "6d834896",
   "metadata": {},
   "source": [
    "SKLearn Solution\n",
    "============="
   ]
  },
  {
   "cell_type": "code",
   "execution_count": null,
   "id": "87279079",
   "metadata": {},
   "outputs": [
    {
     "name": "stdout",
     "output_type": "stream",
     "text": [
      "Beta: [[-7.19188853e-01 -7.49852259e-02 -7.18303954e-01 -5.06220806e-01\n",
      "   1.16967982e-03 -6.56016604e-01  2.07104807e+00  6.05704092e-01\n",
      "   1.54775536e-01  5.96319791e-01  1.90506710e-01 -1.01574168e-01\n",
      "   5.01189477e-01  4.06528007e-01]]\n",
      "Final Binary Cross Entrophy Loss: 0.43358194672924244\n"
     ]
    },
    {
     "name": "stderr",
     "output_type": "stream",
     "text": [
      "/Users/logan/.pyenv/versions/3.10.12/lib/python3.10/site-packages/sklearn/linear_model/_logistic.py:473: ConvergenceWarning: lbfgs failed to converge after 100 iteration(s) (status=1):\n",
      "STOP: TOTAL NO. OF ITERATIONS REACHED LIMIT\n",
      "\n",
      "Increase the number of iterations to improve the convergence (max_iter=100).\n",
      "You might also want to scale the data as shown in:\n",
      "    https://scikit-learn.org/stable/modules/preprocessing.html\n",
      "Please also refer to the documentation for alternative solver options:\n",
      "    https://scikit-learn.org/stable/modules/linear_model.html#logistic-regression\n",
      "  n_iter_i = _check_optimize_result(\n"
     ]
    }
   ],
   "source": [
    "from sklearn.linear_model import LogisticRegression\n",
    "\n",
    "y = train_ds['Survived'].to_numpy()\n",
    "X = train_ds.drop(columns='Survived').to_numpy()\n",
    "\n",
    "model = LogisticRegression()\n",
    "model.fit(X, y)\n",
    "\n",
    "probs = model.predict_proba(X)[:, 1]\n",
    "\n",
    "bce = log_loss(y, probs)\n",
    "beta = model.coef_\n",
    "\n",
    "print(f\"Beta: {beta}\")\n",
    "print(f\"Final Binary Cross Entrophy Loss: {bce}\")"
   ]
  }
 ],
 "metadata": {
  "kernelspec": {
   "display_name": "3.10.12",
   "language": "python",
   "name": "python3"
  },
  "language_info": {
   "codemirror_mode": {
    "name": "ipython",
    "version": 3
   },
   "file_extension": ".py",
   "mimetype": "text/x-python",
   "name": "python",
   "nbconvert_exporter": "python",
   "pygments_lexer": "ipython3",
   "version": "3.10.12"
  }
 },
 "nbformat": 4,
 "nbformat_minor": 5
}
